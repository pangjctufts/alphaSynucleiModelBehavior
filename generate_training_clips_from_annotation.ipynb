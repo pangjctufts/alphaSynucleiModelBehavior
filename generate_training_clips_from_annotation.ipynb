{
 "cells": [
  {
   "cell_type": "code",
   "execution_count": 9,
   "metadata": {
    "collapsed": false
   },
   "outputs": [
    {
     "name": "stdout",
     "output_type": "stream",
     "text": [
      "1 out of 4\n",
      "2 out of 4\n",
      "3 out of 4\n",
      "4 out of 4\n"
     ]
    }
   ],
   "source": [
    "# Generate training video clips from annotation obtained from subtitleworkshop software\n",
    "import numpy as np\n",
    "from numpy import genfromtxt\n",
    "import cv2\n",
    "import csv\n",
    "import os,sys\n",
    "import time\n",
    "from os import listdir\n",
    "\n",
    "def timestamp2frameNum(timestamp,Fs):\n",
    "    ts = timestamp.split(':')\n",
    "    return long(int(ts[0])*60.0*60.0*Fs+int(ts[1])*60.0*Fs+int(ts[2])*1.0*Fs+int(ts[3])*0.01*Fs)\n",
    "\n",
    "#trainClipsRootFolder = 'E:\\\\MAGL_VIDEO_CHRONIC\\\\Annotated'\n",
    "#annotationTxtName =   'E:\\\\MAGL_VIDEO_CHRONIC\\\\rawVideo\\\\rm617lb1_stitched\\\\20170118box1.txt'\n",
    "#annotationVideoName = 'E:\\\\MAGL_VIDEO_CHRONIC\\\\rawVideo\\\\rm617lb1_stitched\\\\Box1_2017-01-18.avi'\n",
    "\n",
    "trainClipsRootFolder = 'E:\\\\MAGL_VIDEO_CHRONIC\\\\Annotated0213_0223'\n",
    "annotationTxtName =   'E:\\\\MAGL_VIDEO_CHRONIC\\\\0223\\\\rm617lb6_stitched\\\\20170223box6.txt'\n",
    "annotationVideoName = 'E:\\\\MAGL_VIDEO_CHRONIC\\\\0223\\\\rm617lb6_stitched\\\\Box6_2017-02-23.avi'\n",
    "\n",
    "annotation =  genfromtxt(annotationTxtName,delimiter=',',dtype=None)\n",
    "\n",
    "if not os.path.exists(trainClipsRootFolder):\n",
    "    os.makedirs(trainClipsRootFolder)\n",
    "    \n",
    "(dirNameSeg1,videoBaseName) = os.path.split(annotationVideoName)\n",
    "#print dirNameSeg1\n",
    "#print videoBaseName.split('.')[0]\n",
    "\n",
    "Fs = 15.0 # Frame rate\n",
    "\n",
    "cam = cv2.VideoCapture(annotationVideoName)\n",
    "# video_len = cam.get(cv2.cv.CV_CAP_PROP_FRAME_COUNT)\n",
    "ret,frame = cam.read()\n",
    "height,width = frame.shape[:2]\n",
    "\n",
    "progress = 0\n",
    "for item in annotation:\n",
    "    progress+=1\n",
    "    print str(progress) + \" out of \" + str(len(annotation))\n",
    "    startTime = item.split()[0]\n",
    "    endTime = item.split()[1]\n",
    "    activity = item.split()[2]\n",
    "\n",
    "    startFrame = timestamp2frameNum(startTime,Fs)-60*15## Customized for YeQing's data to get better background estimation\n",
    "    endFrame = timestamp2frameNum(endTime,Fs)\n",
    "\n",
    "\n",
    "    cam.set(cv2.cv.CV_CAP_PROP_POS_FRAMES,startFrame)\n",
    "\n",
    "    #Specify output videos\n",
    "    fourcc = cv2.cv.CV_FOURCC(*'XVID')\n",
    "\n",
    "    outputClipFolder = trainClipsRootFolder+\"/\"+activity\n",
    "    if not os.path.exists(outputClipFolder):\n",
    "        os.makedirs(outputClipFolder)\n",
    "    \n",
    "    outputClipName = outputClipFolder+\"/\"+activity+\"_\"+videoBaseName.split('.')[0]+'_'+str(startFrame)+\".avi\";\n",
    "    outputClipWriter = cv2.VideoWriter(outputClipName,fourcc, Fs, (width,height)) \n",
    "\n",
    "    for ii in range(endFrame-startFrame-1):\n",
    "        ret,frame = cam.read()\n",
    "  \n",
    "        #cv2.imshow('Clip', frame)\n",
    "        #if 0xff & cv2.waitKey(1) == 27:\n",
    "        #    break\n",
    "        outputClipWriter.write(frame)\n",
    "\n",
    "    \n",
    "    outputClipWriter.release()\n",
    "\n",
    "cam.release()\n",
    "cv2.destroyAllWindows()\n",
    "\n",
    "    \n",
    "\n",
    "#import cv2\n",
    "#validRegionImage = 'E:\\\\mouse_grooming_Polina\\\\Grooming_23Feb2016_16p11_2\\\\mask.tif'\n",
    "#mask = cv2.imread(validRegionImage)\n",
    "#print mask.shape"
   ]
  },
  {
   "cell_type": "code",
   "execution_count": null,
   "metadata": {
    "collapsed": true
   },
   "outputs": [],
   "source": []
  }
 ],
 "metadata": {
  "kernelspec": {
   "display_name": "Python 2",
   "language": "python",
   "name": "python2"
  },
  "language_info": {
   "codemirror_mode": {
    "name": "ipython",
    "version": 2
   },
   "file_extension": ".py",
   "mimetype": "text/x-python",
   "name": "python",
   "nbconvert_exporter": "python",
   "pygments_lexer": "ipython2",
   "version": "2.7.11"
  }
 },
 "nbformat": 4,
 "nbformat_minor": 0
}
